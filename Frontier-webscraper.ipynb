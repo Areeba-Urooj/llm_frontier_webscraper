{
 "cells": [
  {
   "cell_type": "code",
   "execution_count": 1,
   "id": "24de6495-b61c-43cc-a334-80f7e468900a",
   "metadata": {},
   "outputs": [],
   "source": [
    "\n",
    "import os\n",
    "import requests\n",
    "from dotenv import load_dotenv\n",
    "from bs4 import BeautifulSoup\n",
    "from IPython.display import Markdown, display\n",
    "from openai import OpenAI"
   ]
  },
  {
   "cell_type": "code",
   "execution_count": 2,
   "id": "8544efd0-2855-44c6-9d52-19a4c3f4287c",
   "metadata": {},
   "outputs": [
    {
     "name": "stdout",
     "output_type": "stream",
     "text": [
      "An API key was found, but it looks like it might have space or tab characters at the start or end - please remove them - see troubleshooting notebook\n"
     ]
    }
   ],
   "source": [
    "load_dotenv(override=True)\n",
    "\n",
    "# Get API key from environment\n",
    "api_key = os.getenv('DEEPSEEK_R1_API_KEY')\n",
    "\n",
    "# Validate API key\n",
    "if not api_key:\n",
    "    print(\"No API key was found - please head over to the troubleshooting notebook in this folder to identify & fix!\")\n",
    "elif not api_key.startswith(\"sk-\"):\n",
    "    print(\"An API key was found, but it doesn't start with 'sk-proj-'; please check you're using the right key - see troubleshooting notebook\")\n",
    "elif not api_key.strip() != api_key:\n",
    "    print(\"An API key was found, but it looks like it might have space or tab characters at the start or end - please remove them - see troubleshooting notebook\")\n",
    "else:\n",
    "    print(\"API key found and looks good so far!\")\n"
   ]
  },
  {
   "cell_type": "code",
   "execution_count": 3,
   "id": "7e9e0628-e684-40a6-97d1-37271ff80a2a",
   "metadata": {},
   "outputs": [],
   "source": [
    "client = OpenAI(\n",
    "    api_key=api_key,\n",
    "    base_url=\"https://openrouter.ai/api/v1\"\n",
    ")"
   ]
  },
  {
   "cell_type": "code",
   "execution_count": 4,
   "id": "9501a0ed-7e6a-4626-8015-e8f373451759",
   "metadata": {},
   "outputs": [],
   "source": [
    "system_prompt = \"You are an assistant that analyzes the contents of a website \\\n",
    "and provides a short summary, ignoring text that might be navigation related. \\\n",
    "Respond in markdown.\""
   ]
  },
  {
   "cell_type": "code",
   "execution_count": 5,
   "id": "3a978813-e36d-44a8-84a9-6953a9efc3b1",
   "metadata": {},
   "outputs": [],
   "source": [
    "def simple_chat(message, model=\"deepseek/deepseek-r1\"):\n",
    "    \"\"\"Simple chat completion with DeepSeek\"\"\"\n",
    "    try:\n",
    "        response = client.chat.completions.create(\n",
    "            model=model,\n",
    "            messages=[\n",
    "                {\"role\": \"system\", \"content\": \"You are an assistant that analyzes the contents of a website \\\n",
    "and provides a short summary, ignoring text that might be navigation related. \\\n",
    "Respond in markdown.\"},\n",
    "                {\"role\": \"user\", \"content\": message}\n",
    "            ],\n",
    "            stream=False,\n",
    "            temperature=0.7,\n",
    "            max_tokens=1000\n",
    "        )\n",
    "        return response.choices[0].message.content\n",
    "    except Exception as e:\n",
    "        return f\"Error: {str(e)}\"\n",
    "        "
   ]
  },
  {
   "cell_type": "code",
   "execution_count": 6,
   "id": "45073e63-a349-4a23-8832-d02eb9924c3e",
   "metadata": {},
   "outputs": [],
   "source": [
    "def user_prompt_for(website):\n",
    "    user_prompt = f\"You are looking at a website titled {website.title}\"\n",
    "    user_prompt += \"\\nThe contents of this website is as follows; \\\n",
    "please provide a short summary of this website in markdown. \\\n",
    "If it includes news or announcements, then summarize these too.\\n\\n\"\n",
    "    user_prompt += website.text\n",
    "    return user_prompt"
   ]
  },
  {
   "cell_type": "code",
   "execution_count": 7,
   "id": "0c5721ff-73d7-4dbe-ad7e-94370dd451b5",
   "metadata": {},
   "outputs": [],
   "source": [
    "# Some websites need you to use proper headers when fetching them:\n",
    "headers = {\n",
    " \"User-Agent\": \"Mozilla/5.0 (Windows NT 10.0; Win64; x64) AppleWebKit/537.36 (KHTML, like Gecko) Chrome/117.0.0.0 Safari/537.36\"\n",
    "}\n",
    "\n",
    "class Website:\n",
    "\n",
    "    def __init__(self, url):\n",
    "        \"\"\"\n",
    "        Create this Website object from the given url using the BeautifulSoup library\n",
    "        \"\"\"\n",
    "        self.url = url\n",
    "        response = requests.get(url, headers=headers)\n",
    "        soup = BeautifulSoup(response.content, 'html.parser')\n",
    "        self.title = soup.title.string if soup.title else \"No title found\"\n",
    "        for irrelevant in soup.body([\"script\", \"style\", \"img\", \"input\"]):\n",
    "            irrelevant.decompose()\n",
    "        self.text = soup.body.get_text(separator=\"\\n\", strip=True)"
   ]
  },
  {
   "cell_type": "code",
   "execution_count": 9,
   "id": "f047135e-dc6d-41f7-bca2-8a5c531c7892",
   "metadata": {},
   "outputs": [
    {
     "name": "stdout",
     "output_type": "stream",
     "text": [
      "Google\n",
      "Gmail\n",
      "Images\n",
      "Sign in\n",
      "See more\n",
      "Delete\n",
      "Delete\n",
      "Report inappropriate predictions\n",
      "Google offered in:\n",
      "اردو\n",
      "پښتو\n",
      "سنڌي\n",
      "Pakistan\n",
      "About\n",
      "Advertising\n",
      "Business\n",
      "How Search works\n",
      "Privacy\n",
      "Terms\n",
      "Settings\n",
      "Search settings\n",
      "Advanced search\n",
      "Your data in Search\n",
      "Search history\n",
      "Search help\n",
      "Send feedback\n",
      "Dark theme: Off\n",
      "Google apps\n"
     ]
    }
   ],
   "source": [
    "scrape = Website(\"https://www.google.com\")\n",
    "print(scrape.title)\n",
    "print(scrape.text)"
   ]
  },
  {
   "cell_type": "code",
   "execution_count": 10,
   "id": "feb9a129-47b7-45b8-b066-63ba4708be41",
   "metadata": {},
   "outputs": [
    {
     "name": "stdout",
     "output_type": "stream",
     "text": [
      "You are looking at a website titled Google\n",
      "The contents of this website is as follows; please provide a short summary of this website in markdown. If it includes news or announcements, then summarize these too.\n",
      "\n",
      "Gmail\n",
      "Images\n",
      "Sign in\n",
      "See more\n",
      "Delete\n",
      "Delete\n",
      "Report inappropriate predictions\n",
      "Google offered in:\n",
      "اردو\n",
      "پښتو\n",
      "سنڌي\n",
      "Pakistan\n",
      "About\n",
      "Advertising\n",
      "Business\n",
      "How Search works\n",
      "Privacy\n",
      "Terms\n",
      "Settings\n",
      "Search settings\n",
      "Advanced search\n",
      "Your data in Search\n",
      "Search history\n",
      "Search help\n",
      "Send feedback\n",
      "Dark theme: Off\n",
      "Google apps\n"
     ]
    }
   ],
   "source": [
    "print(user_prompt_for(scrape))"
   ]
  },
  {
   "cell_type": "code",
   "execution_count": 11,
   "id": "e28ba3f0-6ae8-45a1-afb2-05eca0d76655",
   "metadata": {},
   "outputs": [],
   "source": [
    "def messages_for(website):\n",
    "    return [\n",
    "        {\"role\": \"system\", \"content\": system_prompt},\n",
    "        {\"role\": \"user\", \"content\": user_prompt_for(website)}\n",
    "    ]"
   ]
  },
  {
   "cell_type": "code",
   "execution_count": 12,
   "id": "3c61c822-1812-4b92-9607-2e6257066961",
   "metadata": {},
   "outputs": [
    {
     "data": {
      "text/plain": [
       "[{'role': 'system',\n",
       "  'content': 'You are an assistant that analyzes the contents of a website and provides a short summary, ignoring text that might be navigation related. Respond in markdown.'},\n",
       " {'role': 'user',\n",
       "  'content': 'You are looking at a website titled Google\\nThe contents of this website is as follows; please provide a short summary of this website in markdown. If it includes news or announcements, then summarize these too.\\n\\nGmail\\nImages\\nSign in\\nSee more\\nDelete\\nDelete\\nReport inappropriate predictions\\nGoogle offered in:\\nاردو\\nپښتو\\nسنڌي\\nPakistan\\nAbout\\nAdvertising\\nBusiness\\nHow Search works\\nPrivacy\\nTerms\\nSettings\\nSearch settings\\nAdvanced search\\nYour data in Search\\nSearch history\\nSearch help\\nSend feedback\\nDark theme: Off\\nGoogle apps'}]"
      ]
     },
     "execution_count": 12,
     "metadata": {},
     "output_type": "execute_result"
    }
   ],
   "source": [
    "messages_for(scrape)"
   ]
  },
  {
   "cell_type": "code",
   "execution_count": 15,
   "id": "4d19ea25-5daf-4431-a464-8ee28041a68f",
   "metadata": {},
   "outputs": [],
   "source": [
    "# Create the OpenAI client instance for OpenRouter\n",
    "openai = OpenAI(\n",
    "    api_key=os.getenv('DEEPSEEK_R1_API_KEY'),  # Your OpenRouter API key\n",
    "    base_url=\"https://openrouter.ai/api/v1\"\n",
    ")"
   ]
  },
  {
   "cell_type": "code",
   "execution_count": 16,
   "id": "87537861-a354-4249-a2b1-9bebd8ec2627",
   "metadata": {},
   "outputs": [],
   "source": [
    "# And now: call the OpenAI API.\n",
    "def summarize(url):\n",
    "    website = Website(url)\n",
    "    response = openai.chat.completions.create(\n",
    "        model=\"deepseek/deepseek-r1\", 
    "        messages=messages_for(website)\n",
    "    )\n",
    "    return response.choices[0].message.content"
   ]
  },
  {
   "cell_type": "code",
   "execution_count": 17,
   "id": "96f295fe-f565-4e8d-85fd-103855382e3a",
   "metadata": {},
   "outputs": [
    {
     "data": {
      "text/plain": [
       "'```markdown\\n# Edward Donner - Summary\\n\\n**Professional Profile**  \\nEdward Donner is a technologist focused on AI/LLM experimentation and co-founder/CTO of [Nebula.io](https://nebula.io/), an AI-driven talent discovery platform. Previously founded AI startup untapt (acquired 2021). Specializes in proprietary LLMs for talent matching (patented) and has industry recognition for his work.\\n\\n**Key Projects**  \\n- **Connect Four/Outsmart**: An interactive arena where LLMs compete in strategic \"diplomacy and deviousness\" challenges.\\n\\n**Recent Announcements (2025)**  \\n- *May 28*: \"Connecting my courses – become an LLM expert and leader\"  \\n- *May 18*: \"2025 AI Executive Briefing\"  \\n- *April 21*: \"The Complete Agentic AI Engineering Course\"  \\n- *January 23*: \"LLM Workshop – Hands-on with Agents – resources\"  \\n\\n**Personal Interests**  \\nAmateur DJ/electronic music production, Hacker News, and AI experimentation.\\n\\n**Contact**  \\n- Email: `ed [at] edwarddonner [dot] com`  \\n- Social: [LinkedIn](), [Twitter](), [Facebook]()  \\n- Newsletter subscription available on-site.\\n```'"
      ]
     },
     "execution_count": 17,
     "metadata": {},
     "output_type": "execute_result"
    }
   ],
   "source": [
    "summarize(\"https://www.google.com\")"
   ]
  },
  {
   "cell_type": "code",
   "execution_count": 18,
   "id": "7201199a-b3c0-48bf-9104-0ba94680a653",
   "metadata": {},
   "outputs": [],
   "source": [
    "# A function to display this nicely in the Jupyter output, using markdown\n",
    "\n",
    "def display_summary(url):\n",
    "    summary = summarize(url)\n",
    "    display(Markdown(summary))"
   ]
  },
  {
   "cell_type": "code",
   "execution_count": 19,
   "id": "7483ca3f-18f7-4ce7-9815-d81c7f79608e",
   "metadata": {},
   "outputs": [
    {
     "data": {
      "text/markdown": [
       "```markdown\n",
       "# Edward Donner - Summary\n",
       "\n",
       "**Website Focus**: Personal portfolio and professional insights into AI/LLM projects and expertise.\n",
       "\n",
       "### Key Details:\n",
       "- **About Edward Donner**:\n",
       "  - Co-founder & CTO of [Nebula.io](https://nebula.io), an AI-driven talent recruitment platform with patented matching models.\n",
       "  - Founder of AI startup untapt (acquired in 2021).\n",
       "  - Interests: LLM experimentation, coding, DJing, and electronic music production.\n",
       "\n",
       "### Projects:\n",
       "- **Outsmart**: A platform where LLMs compete in strategic \"battles of diplomacy and deviousness.\"\n",
       "\n",
       "### News & Announcements (2025):\n",
       "- **May 28**: Launch of courses to become an \"LLM expert and leader.\"\n",
       "- **May 18**: *2025 AI Executive Briefing* (strategic insights for leaders).\n",
       "- **April 21**: *The Complete Agentic AI Engineering Course* (hands-on training).\n",
       "- **January 23**: Resources from *LLM Workshop – Hands-on with Agents*.\n",
       "\n",
       "### Contact:\n",
       "- Email: `ed [at] edwarddonner [dot] com`\n",
       "- Social: LinkedIn, Twitter, Facebook.\n",
       "- Newsletter subscription available.\n",
       "```"
      ],
      "text/plain": [
       "<IPython.core.display.Markdown object>"
      ]
     },
     "metadata": {},
     "output_type": "display_data"
    }
   ],
   "source": [
    "display_summary(\"https://www.google.com\")"
   ]
  },
  {
   "cell_type": "code",
   "execution_count": null,
   "id": "66fc2617-f981-40a8-abdc-d5cf7912a5ee",
   "metadata": {},
   "outputs": [],
   "source": []
  }
 ],
 "metadata": {
  "kernelspec": {
   "display_name": "Python 3 (ipykernel)",
   "language": "python",
   "name": "python3"
  },
  "language_info": {
   "codemirror_mode": {
    "name": "ipython",
    "version": 3
   },
   "file_extension": ".py",
   "mimetype": "text/x-python",
   "name": "python",
   "nbconvert_exporter": "python",
   "pygments_lexer": "ipython3",
   "version": "3.11.12"
  }
 },
 "nbformat": 4,
 "nbformat_minor": 5
}

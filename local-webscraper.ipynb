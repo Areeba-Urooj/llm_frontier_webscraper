{
 "cells": [
  {
   "cell_type": "code",
   "execution_count": null,
   "id": "0fa6d19b-9d3e-4d01-a71e-9a66e56a939a",
   "metadata": {},
   "outputs": [],
   "source": [
    "\n",
    "import requests\n",
    "from bs4 import BeautifulSoup\n",
    "from IPython.display import Markdown, display"
   ]
  },
  {
   "cell_type": "code",
   "execution_count": null,
   "id": "7cee2017-ba1f-4f5a-8358-b200f74ccf58",
   "metadata": {},
   "outputs": [],
   "source": [
    "OLLAMA_API = \"http://localhost:11434/api/chat\"\n",
    "HEADERS = {\"Content-Type\": \"application/json\"}\n",
    "MODEL = \"llama3.2\""
   ]
  },
  {
   "cell_type": "code",
   "execution_count": 3,
   "id": "e0565abf-1a8a-45bc-8460-537e6288be07",
   "metadata": {},
   "outputs": [],
   "source": [
    "system_prompt = \"You are an assistant that analyzes the contents of a website \\\n",
    "and provides a short summary, ignoring text that might be navigation related. \\\n",
    "Respond in markdown.\""
   ]
  },
  {
   "cell_type": "code",
   "execution_count": 4,
   "id": "f9013263-8829-46ac-9448-41beed2f5dff",
   "metadata": {},
   "outputs": [],
   "source": [
    "def simple_chat(message, model=\"llama3.2\"):\n",
    "    \"\"\"Simple chat completion with Ollama local model\"\"\"\n",
    "    try:\n",
    "        payload = {\n",
    "            \"model\": model,\n",
    "            \"messages\": [\n",
    "                {\"role\": \"system\", \"content\": system_prompt},\n",
    "                {\"role\": \"user\", \"content\": message}\n",
    "            ],\n",
    "            \"stream\": False,\n",
    "            \"options\": {\n",
    "                \"temperature\": 0.7,\n",
    "                \"num_predict\": 1000  # Ollama uses num_predict instead of max_tokens\n",
    "            }\n",
    "        }\n",
    "        \n",
    "        response = requests.post(OLLAMA_API, headers=HEADERS, json=payload)\n",
    "        response.raise_for_status()  # Raises an exception for bad status codes\n",
    "        \n",
    "        result = response.json()\n",
    "        return result[\"message\"][\"content\"]\n",
    "        \n",
    "    except requests.exceptions.RequestException as e:\n",
    "        return f\"Network Error: {str(e)}\"\n",
    "    except KeyError as e:\n",
    "        return f\"Response format error: {str(e)}\"\n",
    "    except Exception as e:\n",
    "        return f\"Error: {str(e)}\"\n",
    "        "
   ]
  },
  {
   "cell_type": "code",
   "execution_count": 5,
   "id": "d4a1ee9a-62ee-4816-a4aa-8fc3aea454cf",
   "metadata": {},
   "outputs": [],
   "source": [
    "def user_prompt_for(website):\n",
    "    user_prompt = f\"You are looking at a website titled {website.title}\"\n",
    "    user_prompt += \"\\nThe contents of this website is as follows; \\\n",
    "please provide a short summary of this website in markdown. \\\n",
    "If it includes news or announcements, then summarize these too.\\n\\n\"\n",
    "    user_prompt += website.text\n",
    "    return user_prompt"
   ]
  },
  {
   "cell_type": "code",
   "execution_count": 6,
   "id": "d7481034-6b8f-48dd-96fb-3b1b389f0ec7",
   "metadata": {},
   "outputs": [],
   "source": [
    "# Some websites need you to use proper headers when fetching them:\n",
    "headers = {\n",
    "    \"User-Agent\": \"Mozilla/5.0 (Windows NT 10.0; Win64; x64) AppleWebKit/537.36 (KHTML, like Gecko) Chrome/117.0.0.0 Safari/537.36\"\n",
    "}\n",
    "\n",
    "class Website:\n",
    "    def __init__(self, url):\n",
    "        \"\"\"\n",
    "        Create this Website object from the given url using the BeautifulSoup library\n",
    "        \"\"\"\n",
    "        self.url = url\n",
    "        response = requests.get(url, headers=headers)\n",
    "        soup = BeautifulSoup(response.content, 'html.parser')\n",
    "        self.title = soup.title.string if soup.title else \"No title found\"\n",
    "        for irrelevant in soup.body([\"script\", \"style\", \"img\", \"input\"]):\n",
    "            irrelevant.decompose()\n",
    "        self.text = soup.body.get_text(separator=\"\\n\", strip=True)"
   ]
  },
  {
   "cell_type": "code",
   "execution_count": null,
   "id": "54550d7e-b7eb-4556-b979-e27053ad9d44",
   "metadata": {},
   "outputs": [],
   "source": [
    "# summarize function for Ollama \n",
    "def summarize(url):\n",
    "    website = Website(url)\n",
    "    user_message = user_prompt_for(website)  # Using the user_prompt_for function\n",
    "     # Using simple_chat function with Ollama\n",
    "    response = simple_chat(user_message)\n",
    "    return response"
   ]
  },
  {
   "cell_type": "code",
   "execution_count": null,
   "id": "a619aef9-2d88-47af-b509-695221ef50e2",
   "metadata": {},
   "outputs": [],
   "source": [
    "# Test it\n",
    "result = summarize(\"https://www.google.com\")\n",
    "display(Markdown(result))"
   ]
  },
  {
   "cell_type": "code",
   "execution_count": null,
   "id": "4ff67c99-20ae-4570-bd5d-1c2c05e29b8f",
   "metadata": {},
   "outputs": [],
   "source": []
  }
 ],
 "metadata": {
  "kernelspec": {
   "display_name": "Python 3 (ipykernel)",
   "language": "python",
   "name": "python3"
  },
  "language_info": {
   "codemirror_mode": {
    "name": "ipython",
    "version": 3
   },
   "file_extension": ".py",
   "mimetype": "text/x-python",
   "name": "python",
   "nbconvert_exporter": "python",
   "pygments_lexer": "ipython3",
   "version": "3.11.12"
  }
 },
 "nbformat": 4,
 "nbformat_minor": 5
}
